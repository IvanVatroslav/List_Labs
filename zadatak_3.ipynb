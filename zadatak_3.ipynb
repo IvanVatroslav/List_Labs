{
 "cells": [
  {
   "cell_type": "code",
   "outputs": [],
   "source": [
    "import pandas as pd\n",
    "import matplotlib.pyplot as plt\n",
    "import seaborn as sns"
   ],
   "metadata": {
    "collapsed": false,
    "ExecuteTime": {
     "end_time": "2024-09-03T21:11:09.391899Z",
     "start_time": "2024-09-03T21:11:09.374961Z"
    }
   },
   "id": "251d0f1dd9b8e7bb",
   "execution_count": 1
  },
  {
   "cell_type": "code",
   "outputs": [
    {
     "name": "stdout",
     "output_type": "stream",
     "text": [
      "      Red   Green   Blue     NIR      ndvi      ndwi    msavi2     mtvi2  \\\n",
      "0  1376.0  1150.0  795.0  2598.0  0.307499 -0.386339  0.470314  0.338574   \n",
      "1  1342.0  1101.0  776.0  2676.0  0.332006 -0.416998  0.498459  0.360913   \n",
      "2  1347.0  1101.0  785.0  2671.0  0.329517 -0.416225  0.495648  0.356393   \n",
      "3  1303.0  1140.0  722.0  2628.0  0.337064 -0.394904  0.504138  0.393367   \n",
      "4  1358.0  1141.0  727.0  2758.0  0.340136 -0.414722  0.507569  0.380207   \n",
      "\n",
      "       vari      tgi  Class  \n",
      "0 -0.130560  13390.0      0  \n",
      "1 -0.144571  11065.0      0  \n",
      "2 -0.147925  10350.0      0  \n",
      "3 -0.094712  19375.0      0  \n",
      "4 -0.122460  17245.0      0  \n"
     ]
    }
   ],
   "source": [
    "# Load the CSV file\n",
    "df = pd.read_csv('training_data.csv')\n",
    "\n",
    "# Display the first few rows of the dataset\n",
    "print(df.head())"
   ],
   "metadata": {
    "collapsed": true,
    "ExecuteTime": {
     "end_time": "2024-09-03T21:11:09.986157Z",
     "start_time": "2024-09-03T21:11:09.856505Z"
    }
   },
   "id": "initial_id",
   "execution_count": 2
  },
  {
   "cell_type": "code",
   "outputs": [],
   "source": [],
   "metadata": {
    "collapsed": false
   },
   "id": "4c574431389e9732"
  }
 ],
 "metadata": {
  "kernelspec": {
   "display_name": "Python 3",
   "language": "python",
   "name": "python3"
  },
  "language_info": {
   "codemirror_mode": {
    "name": "ipython",
    "version": 2
   },
   "file_extension": ".py",
   "mimetype": "text/x-python",
   "name": "python",
   "nbconvert_exporter": "python",
   "pygments_lexer": "ipython2",
   "version": "2.7.6"
  }
 },
 "nbformat": 4,
 "nbformat_minor": 5
}
